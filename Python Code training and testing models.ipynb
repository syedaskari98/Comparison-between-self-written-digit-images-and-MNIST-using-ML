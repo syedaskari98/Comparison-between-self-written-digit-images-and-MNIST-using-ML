{
  "cells": [
    {
      "cell_type": "markdown",
      "id": "48a95b26",
      "metadata": {
        "id": "48a95b26"
      },
      "source": [
        "\n",
        "    \n",
        "## by<span style=\"color:cornflowerblue\"> MNIST vs My Digit Images using Machine Learning (By Askari Raza)</a>"
      ]
    },
    {
      "cell_type": "markdown",
      "id": "b0e5a272",
      "metadata": {
        "id": "b0e5a272"
      },
      "source": [
        "## Part A Section 1"
      ]
    },
    {
      "cell_type": "code",
      "execution_count": 2,
      "id": "a8347d00-b888-407a-9646-3a257aea3597",
      "metadata": {
        "id": "a8347d00-b888-407a-9646-3a257aea3597"
      },
      "outputs": [],
      "source": [
        "#1 import required modules\n",
        "import time\n",
        "import io\n",
        "import matplotlib.pyplot as plt\n",
        "import numpy as np\n",
        "from scipy.io.arff import loadarff\n",
        "\n",
        "from sklearn.datasets import get_data_home\n",
        "from joblib import Memory\n",
        "from sklearn.linear_model import LogisticRegression\n",
        "from sklearn.model_selection import train_test_split\n",
        "from sklearn.preprocessing import StandardScaler\n",
        "from sklearn.utils import check_random_state\n",
        "from urllib.request import urlopen"
      ]
    },
    {
      "cell_type": "markdown",
      "id": "6a6d569f-a148-4d1a-856b-973843a25124",
      "metadata": {
        "id": "6a6d569f-a148-4d1a-856b-973843a25124"
      },
      "source": [
        "##  Part A, Section 2"
      ]
    },
    {
      "cell_type": "markdown",
      "id": "f26a4eaa-a7fc-4925-a51b-5ea855d27f62",
      "metadata": {
        "id": "f26a4eaa-a7fc-4925-a51b-5ea855d27f62"
      },
      "source": [
        "#### Reading the Dataset"
      ]
    },
    {
      "cell_type": "markdown",
      "id": "de71c12f-e945-4aad-adfd-9f47cae7eb76",
      "metadata": {
        "id": "de71c12f-e945-4aad-adfd-9f47cae7eb76"
      },
      "source": [
        "### Training the Model with MNIST Dataset"
      ]
    },
    {
      "cell_type": "code",
      "execution_count": 3,
      "id": "a9d6af85-0b06-4ec9-9b03-d13d9113d4d5",
      "metadata": {
        "colab": {
          "base_uri": "https://localhost:8080/"
        },
        "id": "a9d6af85-0b06-4ec9-9b03-d13d9113d4d5",
        "outputId": "d5f6f55f-cadc-49ab-ce81-1d3ca80c9c24"
      },
      "outputs": [
        {
          "name": "stdout",
          "output_type": "stream",
          "text": [
            "________________________________________________________________________________\n",
            "[Memory] Calling __main__--content-<ipython-input-a08b083f14d8>.fetch_mnist...\n",
            "fetch_mnist()\n",
            "_____________________________________________________fetch_mnist - 43.1s, 0.7min\n"
          ]
        }
      ],
      "source": [
        "#2.  read the NMIST dataset\n",
        "memory = Memory(get_data_home())\n",
        "@memory.cache()\n",
        "def fetch_mnist():\n",
        "    content = urlopen(\n",
        "        'https://www.openml.org/data/download/52667/mnist_784.arff').read()\n",
        "    data, meta = loadarff(io.StringIO(content.decode('utf8')))\n",
        "    data = data.view([('pixels', '<f8', 784), ('class', '|S1')])\n",
        "    return data['pixels'], data['class']\n",
        "X, y = fetch_mnist()\n"
      ]
    },
    {
      "cell_type": "code",
      "execution_count": 3,
      "id": "64f36871-6f7a-47a8-b3a7-31c3c8386d74",
      "metadata": {
        "colab": {
          "base_uri": "https://localhost:8080/"
        },
        "id": "64f36871-6f7a-47a8-b3a7-31c3c8386d74",
        "outputId": "00e49ebc-f164-477b-d046-5a94cdee8cbc"
      },
      "outputs": [
        {
          "data": {
            "text/plain": [
              "(70000, 784)"
            ]
          },
          "execution_count": 3,
          "metadata": {},
          "output_type": "execute_result"
        }
      ],
      "source": [
        "X.shape"
      ]
    },
    {
      "cell_type": "code",
      "execution_count": 4,
      "id": "67705411-1287-4ab4-ace8-8e428df7a2a4",
      "metadata": {
        "id": "67705411-1287-4ab4-ace8-8e428df7a2a4"
      },
      "outputs": [],
      "source": [
        "# rescale the data, use the traditional train/test split\n",
        "\n",
        "X = X / 255.\n",
        "\n",
        "###### NEW  Refromat the the labels to be string rather than byte arrays\n",
        "y_trans = []\n",
        "for i in range(len(y)):\n",
        "    y_trans.append(y[i].decode(\"utf-8\"))\n",
        "y = np.asarray(y_trans)\n",
        "\n",
        "X_train, X_test = X[:60000], X[60000:]\n",
        "y_train, y_test = y[:60000], y[60000:]"
      ]
    },
    {
      "cell_type": "code",
      "execution_count": null,
      "id": "30f94f1a-6d92-4360-8c3e-3fbb2b884176",
      "metadata": {
        "id": "30f94f1a-6d92-4360-8c3e-3fbb2b884176"
      },
      "outputs": [],
      "source": []
    },
    {
      "cell_type": "code",
      "execution_count": 5,
      "id": "26dbd7c2-e020-46ef-b06c-8fe27e425192",
      "metadata": {
        "colab": {
          "base_uri": "https://localhost:8080/",
          "height": 463
        },
        "id": "26dbd7c2-e020-46ef-b06c-8fe27e425192",
        "outputId": "512e9383-6180-4114-9f09-2a85bdec0d76"
      },
      "outputs": [
        {
          "data": {
            "image/png": "[encoded data removed]",
            "text/plain": [
              "<Figure size 640x480 with 50 Axes>"
            ]
          },
          "metadata": {},
          "output_type": "display_data"
        }
      ],
      "source": [
        "### Bounus 1: show the first ten images\n",
        "### ALways a good idea to validate that the data appears as you expect\n",
        "###\n",
        "### for sci-kit learn the images are represented as vectors of 784 elements\n",
        "### currently scaled from 0 to 1\n",
        "\n",
        "for i in range(50):\n",
        "    l1_plot = plt.subplot(5, 10, i + 1)\n",
        "    l1_plot.imshow(255 * X_test[i].reshape(28, 28), interpolation='nearest',\n",
        "                   cmap=plt.cm.gray)\n",
        "    l1_plot.set_xticks(())\n",
        "    l1_plot.set_yticks(())\n",
        "    #l1_plot.set_xlabel('Class %s' % y_test[i].decode())\n",
        "    l1_plot.set_xlabel('%i' % int(y_test[i]))\n",
        "plt.suptitle('Test image Examples')\n",
        "plt.show()"
      ]
    },
    {
      "cell_type": "code",
      "execution_count": 6,
      "id": "fea8c94d-cb1c-4534-b9ce-16197820d404",
      "metadata": {
        "id": "fea8c94d-cb1c-4534-b9ce-16197820d404"
      },
      "outputs": [],
      "source": [
        "## for this demonstration each pixel scale is normalized\n",
        "## by the mean and standared deviation of the training set\n",
        "## note the mean and stadard deviation are set by the\n",
        "## taining set only.\n",
        "## why is this done?\n",
        "scaler = StandardScaler()\n",
        "X_train = scaler.fit_transform(X_train)\n",
        "X_test = scaler.transform(X_test)"
      ]
    },
    {
      "cell_type": "code",
      "execution_count": 15,
      "id": "nLm6poBNcerO",
      "metadata": {
        "colab": {
          "base_uri": "https://localhost:8080/"
        },
        "id": "nLm6poBNcerO",
        "outputId": "661117d5-3412-49ee-dd96-f71e46ee0f18"
      },
      "outputs": [
        {
          "data": {
            "text/plain": [
              "(60000,)"
            ]
          },
          "execution_count": 15,
          "metadata": {},
          "output_type": "execute_result"
        }
      ],
      "source": [
        "y_train.shape"
      ]
    },
    {
      "cell_type": "markdown",
      "id": "39e3bbf1",
      "metadata": {
        "id": "39e3bbf1"
      },
      "source": [
        "## Part B, Section 3"
      ]
    },
    {
      "cell_type": "code",
      "execution_count": 7,
      "id": "38532061",
      "metadata": {
        "id": "38532061"
      },
      "outputs": [],
      "source": [
        "#Importing required libraries\n",
        "\n",
        "\n",
        "import numpy as np\n",
        "import pandas as pd\n",
        "import sklearn\n",
        "import matplotlib as mpl\n",
        "import matplotlib.pyplot as plt\n",
        "from sklearn.preprocessing import StandardScaler\n",
        "from sklearn.neighbors import KNeighborsClassifier\n",
        "from sklearn.decomposition import PCA\n",
        "from sklearn.neural_network import MLPClassifier\n",
        "from sklearn.svm import SVC\n",
        "from sklearn.linear_model import SGDClassifier\n",
        "from sklearn.metrics import precision_recall_fscore_support\n",
        "from sklearn.metrics import accuracy_score\n",
        "import time\n",
        "from sklearn.metrics import confusion_matrix\n"
      ]
    },
    {
      "cell_type": "markdown",
      "id": "dfe57fd4",
      "metadata": {
        "id": "dfe57fd4"
      },
      "source": [
        "### Dataset loading and preprocessing:"
      ]
    },
    {
      "cell_type": "markdown",
      "id": "988d8209",
      "metadata": {
        "id": "988d8209"
      },
      "source": [
        "### 3.1 K-NN model\n",
        "\n",
        "<span style=\"color:cornflowerblue\"> You can visit this link for more information about K-NN classifier by sk.learn: https://scikit-learn.org/stable/modules/generated/sklearn.neighbors.KNeighborsClassifier.html  </a>"
      ]
    },
    {
      "cell_type": "markdown",
      "id": "c658f92c-8712-4c68-8947-20e97c059152",
      "metadata": {
        "id": "c658f92c-8712-4c68-8947-20e97c059152"
      },
      "source": [
        "<span style=\"color:cornflowerblue\">\n",
        "    The function below allows you to conveniently train and test a KNN classifier with a\n",
        "    single command.\n",
        "</span>"
      ]
    },
    {
      "cell_type": "code",
      "execution_count": 24,
      "id": "c1b79547",
      "metadata": {
        "id": "c1b79547"
      },
      "outputs": [],
      "source": [
        "# KNN Example KNN evelauation fucntion: Trains, Tests and prints results.\n",
        "#Use a similar function when you need to explore different hyperparameter settings\n",
        "\n",
        "def KNN(train_features, train_labels, test_features, test_labels, k):\n",
        "    knn = KNeighborsClassifier(n_neighbors=k)\n",
        "    start_time = time.time()\n",
        "    knn.fit(train_features,train_labels)\n",
        "    train_time = time.time() - start_time\n",
        "\n",
        "    start_time = time.time()\n",
        "    print('value of k' , k)\n",
        "    print('training time' , train_time)\n",
        "    score_test = knn.score(test_features,test_labels)\n",
        "    score_training =knn.score(train_features,train_labels)\n",
        "    test_pred = knn.predict(test_features)\n",
        "\n",
        "    test_time = time.time() - start_time\n",
        "\n",
        "    print('Score test' , score_test)\n",
        "    print('train_score' , score_training)\n",
        "\n",
        "    print('test time' ,test_time)\n",
        "    cfm = confusion_matrix(test_labels, test_pred)\n",
        "    print (cfm)\n",
        "\n"
      ]
    },
    {
      "cell_type": "code",
      "execution_count": 25,
      "id": "8UqPNCkZ-xfB",
      "metadata": {
        "colab": {
          "base_uri": "https://localhost:8080/"
        },
        "id": "8UqPNCkZ-xfB",
        "outputId": "25c195ec-2b3b-482f-bb51-3ac6e82321cb"
      },
      "outputs": [
        {
          "name": "stdout",
          "output_type": "stream",
          "text": [
            "KNN with full data for k = 1\n",
            "value of k 1\n",
            "training time 0.05213522911071777\n",
            "Score test 0.9434\n",
            "train_score 1.0\n",
            "test time 297.67092394828796\n",
            "[[ 965    1    0    3    1    4    5    0    1    0]\n",
            " [   0 1127    3    1    1    0    3    0    0    0]\n",
            " [  10    7  966   19    4    0    3   10    9    4]\n",
            " [   0    2    3  949    2   19    1   11   16    7]\n",
            " [   1    9    5    1  920    2    5    6    3   30]\n",
            " [   5    0    1   30    4  813   12    1   18    8]\n",
            " [  13    4    1    2    4    5  929    0    0    0]\n",
            " [   0   14   11    4    6    1    0  959    1   32]\n",
            " [  14    2    7   20    8   30    3    8  875    7]\n",
            " [   4    4    6    9   15    6    0   30    4  931]]\n",
            "KNN with full data for k = 3\n",
            "value of k 3\n",
            "training time 0.054379940032958984\n",
            "Score test 0.9452\n",
            "train_score 0.9727666666666667\n",
            "test time 289.16002202033997\n",
            "[[ 967    0    1    3    0    4    5    0    0    0]\n",
            " [   0 1127    3    0    1    0    3    0    1    0]\n",
            " [  12    9  967   15    2    0    5   11    9    2]\n",
            " [   0    4    5  963    2   14    0   12    8    2]\n",
            " [   1    9    5    2  922    2    7    4    3   27]\n",
            " [   7    0    6   21    4  828    9    2    7    8]\n",
            " [  13    4    2    0    3    9  925    0    2    0]\n",
            " [   0   22   12    4    7    2    0  953    1   27]\n",
            " [  15    3    9   24   10   22    3    7  874    7]\n",
            " [   5    6    6   11   17    7    0   28    3  926]]\n",
            "KNN with full data for k = 5\n",
            "value of k 5\n",
            "training time 0.04567766189575195\n",
            "Score test 0.9443\n",
            "train_score 0.96425\n",
            "test time 283.35251784324646\n",
            "[[ 963    0    1    3    1    5    6    1    0    0]\n",
            " [   0 1129    3    0    0    0    3    0    0    0]\n",
            " [  14    6  960   20    5    0    7    9   10    1]\n",
            " [   0    3    5  962    3   13    0   10   10    4]\n",
            " [   1   10    5    3  922    3    6    4    2   26]\n",
            " [   5    1    3   23    8  824   13    2    6    7]\n",
            " [  10    4    2    1    3    6  929    0    3    0]\n",
            " [   0   21   12    4    8    2    0  949    1   31]\n",
            " [  13    3    6   18    8   30    3    6  880    7]\n",
            " [   6    5    5   10   18    6    0   31    3  925]]\n"
          ]
        }
      ],
      "source": [
        "print('KNN with full data for k = 1')\n",
        "KNN(X_train , y_train , X_test , y_test , 1)\n",
        "\n",
        "print('KNN with full data for k = 3')\n",
        "KNN(X_train , y_train , X_test , y_test , 3)\n",
        "\n",
        "print('KNN with full data for k = 5')\n",
        "KNN(X_train , y_train , X_test , y_test , 5)"
      ]
    },
    {
      "cell_type": "code",
      "execution_count": 26,
      "id": "ZTZicpIAbGwz",
      "metadata": {
        "colab": {
          "base_uri": "https://localhost:8080/"
        },
        "id": "ZTZicpIAbGwz",
        "outputId": "1c12b699-456b-41c2-e051-8ae0e6141e4d"
      },
      "outputs": [
        {
          "name": "stdout",
          "output_type": "stream",
          "text": [
            "KNN with partial data for k = 1\n",
            "value of k 1\n",
            "training time 0.12392163276672363\n",
            "Score test 0.95696\n",
            "train_score 1.0\n",
            "test time 168.86676335334778\n",
            "[[4845    5   11    4    2    6   21    4    7    4]\n",
            " [   1 5551   16   11    2    3    3    5    2    2]\n",
            " [  51   34 4798   27    9    8   19   93   18    4]\n",
            " [   6   11   34 4810    2  100    3   27   49   23]\n",
            " [   5   37    1    1 4620    1   16   20    3  175]\n",
            " [  18   11    2   93   11 4278   60    8   28   29]\n",
            " [  33   10    2    2    8   25 4820    0    4    1]\n",
            " [   3   71   21    2   20    1    0 4998    1   83]\n",
            " [  23   46   21  109   19  130   30   25 4436   64]\n",
            " [  14   15    7   25   79   13    1   83   15 4692]]\n",
            "KNN with partial data for k = 3\n",
            "value of k 3\n",
            "training time 0.016594409942626953\n",
            "Score test 0.95742\n",
            "train_score 0.98065\n",
            "test time 155.55546307563782\n",
            "[[4869    5    6    2    0    4   17    2    3    1]\n",
            " [   1 5560   10    8    1    1    4    8    1    2]\n",
            " [  61   54 4770   25    6    3   17  106   15    4]\n",
            " [  10   17   38 4839    2   69    4   32   33   21]\n",
            " [   8   48    2    2 4622    1   18   11    3  164]\n",
            " [  26   16    5  102    9 4284   49    6   19   22]\n",
            " [  24   12    2    2    7   26 4831    0    1    0]\n",
            " [   5   86   21    2   20    2    0 4986    0   78]\n",
            " [  38   67   38  110   30  113   16   24 4404   63]\n",
            " [  21   20   13   41   63   12    1   59    8 4706]]\n",
            "KNN with partial data for k = 5\n",
            "value of k 5\n",
            "training time 0.017898082733154297\n",
            "Score test 0.95652\n",
            "train_score 0.9738\n",
            "test time 163.87539148330688\n",
            "[[4858    6    5    3    0    9   22    3    1    2]\n",
            " [   1 5561   11    7    0    1    4    8    1    2]\n",
            " [  61   64 4757   21    7    3   17  107   17    7]\n",
            " [   6   19   31 4848    2   63    5   34   34   23]\n",
            " [   6   50    2    1 4622    0   21   10    3  164]\n",
            " [  23   19    4   88    8 4293   56    5   14   28]\n",
            " [  24   16    2    2    6   24 4829    0    1    1]\n",
            " [   2   94   20    4   20    0    0 4982    0   78]\n",
            " [  30   79   28  102   29  137   25   31 4373   69]\n",
            " [  21   21   11   38   56   13    2   72    7 4703]]\n"
          ]
        }
      ],
      "source": [
        "print('KNN with partial data for k = 1')\n",
        "KNN(X_train1 , y_train1 , X_test1 , y_test1 , 1)\n",
        "\n",
        "print('KNN with partial data for k = 3')\n",
        "KNN(X_train1 , y_train1 , X_test1 , y_test1 , 3)\n",
        "\n",
        "print('KNN with partial data for k = 5')\n",
        "KNN(X_train1 , y_train1 , X_test1 , y_test1 , 5)"
      ]
    },
    {
      "cell_type": "code",
      "execution_count": 7,
      "id": "62DjBfcPa-D_",
      "metadata": {
        "colab": {
          "base_uri": "https://localhost:8080/"
        },
        "id": "62DjBfcPa-D_",
        "outputId": "ef91cea8-a3bc-43ef-df52-bf57be3708e7"
      },
      "outputs": [
        {
          "name": "stdout",
          "output_type": "stream",
          "text": [
            "0.9434\n",
            "1.0\n",
            "0.08320116996765137\n",
            "174.97608256340027\n"
          ]
        }
      ],
      "source": [
        "knn = KNeighborsClassifier(n_neighbors=1)\n",
        "start_time = time.time()\n",
        "knn.fit(X_train,y_train)\n",
        "train_time = time.time() - start_time\n",
        "\n",
        "start_time = time.time()\n",
        "\n",
        "score_test = knn.score(X_test,y_test)\n",
        "score_train =knn.score(X_train,y_train)\n",
        "test_time = time.time() - start_time\n",
        "\n",
        "print(score_test)\n",
        "print(score_train)\n",
        "print(train_time)\n",
        "print(test_time)\n",
        "\n",
        "\n"
      ]
    },
    {
      "cell_type": "code",
      "execution_count": 9,
      "id": "aI35l5WZgXOi",
      "metadata": {
        "colab": {
          "base_uri": "https://localhost:8080/"
        },
        "id": "aI35l5WZgXOi",
        "outputId": "62a57112-7fb1-4bb3-9e71-e7820e397482"
      },
      "outputs": [
        {
          "name": "stdout",
          "output_type": "stream",
          "text": [
            "0.9443\n",
            "0.96425\n",
            "0.0641486644744873\n",
            "214.08510851860046\n"
          ]
        }
      ],
      "source": [
        "print(score_test)\n",
        "print(score_train)\n",
        "print(train_time)\n",
        "print(test_time)"
      ]
    },
    {
      "cell_type": "code",
      "execution_count": 18,
      "id": "yPNSmP899yth",
      "metadata": {
        "id": "yPNSmP899yth"
      },
      "outputs": [],
      "source": [
        "#with smaller training data\n",
        "X_train1, X_test1 = X[:20000], X[20000:]\n",
        "y_train1, y_test1 = y[:20000], y[20000:]"
      ]
    },
    {
      "cell_type": "code",
      "execution_count": 14,
      "id": "h7B6B-i9_yAm",
      "metadata": {
        "colab": {
          "base_uri": "https://localhost:8080/"
        },
        "id": "h7B6B-i9_yAm",
        "outputId": "563a4b0c-075d-4f8e-93a1-4105ae156c67"
      },
      "outputs": [
        {
          "name": "stdout",
          "output_type": "stream",
          "text": [
            "0.95652\n",
            "0.9738\n",
            "0.04366898536682129\n",
            "57.541537046432495\n"
          ]
        }
      ],
      "source": [
        "knn = KNeighborsClassifier(n_neighbors=5)\n",
        "start_time = time.time()\n",
        "knn.fit(X_train1,y_train1)\n",
        "train_time = time.time() - start_time\n",
        "\n",
        "start_time = time.time()\n",
        "\n",
        "score_test = knn.score(X_test1,y_test1)\n",
        "score_train =knn.score(X_train1,y_train1)\n",
        "test_time = time.time() - start_time\n",
        "\n",
        "print(score_test)\n",
        "print(score_train)\n",
        "print(train_time)\n",
        "print(test_time)\n"
      ]
    },
    {
      "cell_type": "code",
      "execution_count": 15,
      "id": "br8jhGCGA4W_",
      "metadata": {
        "id": "br8jhGCGA4W_"
      },
      "outputs": [],
      "source": [
        "###Apply PCA after data splitting and standardization.\n",
        "#Wisely choose the number of components (n_components) or the amount of variance retained.\n",
        "pca = PCA(n_components=20)\n",
        "pca.fit(X_train)\n",
        "X_train_pca = pca.transform(X_train)\n",
        "X_test_pca = pca.transform(X_test)"
      ]
    },
    {
      "cell_type": "code",
      "execution_count": 18,
      "id": "8ecf6c59",
      "metadata": {
        "colab": {
          "base_uri": "https://localhost:8080/"
        },
        "id": "8ecf6c59",
        "outputId": "24183431-11f2-4cb4-c287-26665ab6aa54"
      },
      "outputs": [
        {
          "name": "stdout",
          "output_type": "stream",
          "text": [
            "0.946\n",
            "0.9665666666666667\n",
            "0.08843016624450684\n",
            "25.31709933280945\n"
          ]
        }
      ],
      "source": [
        "knn = KNeighborsClassifier(n_neighbors=5)\n",
        "start_time = time.time()\n",
        "knn.fit(X_train_pca,y_train)\n",
        "train_time = time.time() - start_time\n",
        "\n",
        "start_time = time.time()\n",
        "\n",
        "score_test = knn.score(X_test_pca,y_test)\n",
        "score_train =knn.score(X_train_pca,y_train)\n",
        "test_time = time.time() - start_time\n",
        "\n",
        "print(score_test)\n",
        "print(score_train)\n",
        "print(train_time)\n",
        "print(test_time)"
      ]
    },
    {
      "cell_type": "code",
      "execution_count": 28,
      "id": "RnrLA3gAwPPw",
      "metadata": {
        "id": "RnrLA3gAwPPw"
      },
      "outputs": [],
      "source": [
        "def KNN_PCA(train_features, train_labels, test_features, test_labels, k, n_comp):\n",
        "\n",
        "    pca = PCA(n_components=n_comp)\n",
        "    pca.fit(X_train)\n",
        "    train_features_pca = pca.transform(train_features)\n",
        "    test_features_pca = pca.transform(test_features)\n",
        "\n",
        "\n",
        "    knn = KNeighborsClassifier(n_neighbors=k)\n",
        "    start_time = time.time()\n",
        "    knn.fit(train_features_pca,train_labels)\n",
        "    train_time = time.time() - start_time\n",
        "\n",
        "    start_time = time.time()\n",
        "    print(k)\n",
        "    print(train_time)\n",
        "    score_test = knn.score(test_features_pca,test_labels)\n",
        "    score_train =knn.score(train_features_pca,train_labels)\n",
        "    test_pred = knn.predict(test_features_pca)\n",
        "\n",
        "    test_time = time.time() - start_time\n",
        "\n",
        "    print(score_test)\n",
        "    print(score_train)\n",
        "\n",
        "    print(test_time)\n",
        "    cfm = confusion_matrix(test_labels, test_pred)\n",
        "    print (cfm)"
      ]
    },
    {
      "cell_type": "code",
      "execution_count": 30,
      "id": "w-OcHQUKwsFo",
      "metadata": {
        "colab": {
          "base_uri": "https://localhost:8080/"
        },
        "id": "w-OcHQUKwsFo",
        "outputId": "c90fd06f-b7ec-461c-80d3-e4b0088859be"
      },
      "outputs": [
        {
          "name": "stdout",
          "output_type": "stream",
          "text": [
            "KNN_PCA with partial data for k = 1\n",
            "1\n",
            "0.0074176788330078125\n",
            "0.93912\n",
            "1.0\n",
            "19.064401626586914\n",
            "[[4809    4   17    6    0   16   36    2   14    5]\n",
            " [   0 5523   26   12    2    3    4    7   15    4]\n",
            " [  35   11 4825   46   11    4   18   55   47    9]\n",
            " [   3   14   56 4592    7   97    3   38  216   39]\n",
            " [   5   11   14    2 4484    8   32   15   14  294]\n",
            " [  22    7    9   98    8 4195   70    5   83   41]\n",
            " [  26    7    4    2   12   44 4791    0   17    2]\n",
            " [   2   42   41   21   26    4    0 4849   12  203]\n",
            " [  20   28   37  138   16  102   31   16 4430   85]\n",
            " [  13   20   11   42  203   27    1  124   45 4458]]\n",
            "KNN_PCA with partial data for k = 3\n",
            "3\n",
            "0.0069234371185302734\n",
            "0.94574\n",
            "0.9761\n",
            "19.732738733291626\n",
            "[[4831    3   13    4    4   12   26    1   14    1]\n",
            " [   1 5535   25   11    4    1    4    4    7    4]\n",
            " [  39    8 4857   29    9    4   17   43   52    3]\n",
            " [   9   25   49 4612    4   90    2   35  206   33]\n",
            " [  11   18   14    1 4519    7   33    9    4  263]\n",
            " [  36   11    7   92   11 4234   52    4   59   32]\n",
            " [  25    7    5    3   10   36 4809    0   10    0]\n",
            " [   3   52   36   10   44    4    1 4873    5  172]\n",
            " [  37   34   39  107   22   93   16   14 4488   53]\n",
            " [  24   25   10   58  164   29    2   83   20 4529]]\n",
            "KNN_PCA with partial data for k = 5\n",
            "5\n",
            "0.007340669631958008\n",
            "0.94644\n",
            "0.96805\n",
            "19.228504419326782\n",
            "[[4823    5   15    3    1   15   29    2   15    1]\n",
            " [   0 5534   21   13    3    2    7    5    7    4]\n",
            " [  35   10 4857   20    8    6   22   47   51    5]\n",
            " [  10   25   45 4605    9   89    3   34  211   34]\n",
            " [   9   16   15    1 4512    8   39    7    4  268]\n",
            " [  24    6    7   94    9 4253   58    4   43   40]\n",
            " [  18    8    2    0   12   37 4819    0    9    0]\n",
            " [   4   54   33   10   41    3    0 4891    7  157]\n",
            " [  27   38   37   99   16  103   21   11 4486   65]\n",
            " [  19   26   10   52  136   29    1   99   30 4542]]\n"
          ]
        }
      ],
      "source": [
        "print('KNN_PCA with partial data for k = 1')\n",
        "KNN_PCA(X_train1 , y_train1 , X_test1 , y_test1 , 1 , 20)\n",
        "\n",
        "print('KNN_PCA with partial data for k = 3')\n",
        "KNN_PCA(X_train1 , y_train1 , X_test1 , y_test1 , 3 , 20)\n",
        "\n",
        "print('KNN_PCA with partial data for k = 5')\n",
        "KNN_PCA(X_train1 , y_train1 , X_test1 , y_test1 , 5 , 20)"
      ]
    },
    {
      "cell_type": "code",
      "execution_count": null,
      "id": "weq-RJ2jEWTe",
      "metadata": {
        "id": "weq-RJ2jEWTe"
      },
      "outputs": [],
      "source": [
        "#MLP"
      ]
    },
    {
      "cell_type": "code",
      "execution_count": 31,
      "id": "gp-Y5iKpEYJ1",
      "metadata": {
        "id": "gp-Y5iKpEYJ1"
      },
      "outputs": [],
      "source": [
        "# mlp = MLPClassifier(hidden_layer_sizes=(100, 100), max_iter=400, alpha=1e-4,\n",
        "\n",
        "\n",
        "def MLP_singlelayer(train_features, train_labels, test_features, test_labels, hid_layer_size):\n",
        "\n",
        "    mlp = MLPClassifier(hidden_layer_sizes=(hid_layer_size,), max_iter=20, alpha=1e-4,\n",
        "                    solver='sgd', verbose=10,\n",
        "                    learning_rate_init=.1)\n",
        "\n",
        "    start_time = time.time()\n",
        "    mlp.fit(train_features,train_labels)\n",
        "    train_time = time.time() - start_time\n",
        "\n",
        "    start_time = time.time()\n",
        "    #print(k)\n",
        "    print('Train time: ' ,train_time)\n",
        "    score_test = mlp.score(test_features,test_labels)\n",
        "    score_train = mlp.score(train_features,train_labels)\n",
        "    test_pred = mlp.predict(test_features)\n",
        "\n",
        "    test_time = time.time() - start_time\n",
        "\n",
        "    print('Test Score' , score_test)\n",
        "    print('training score ' ,score_train)\n",
        "\n",
        "    print('test time' , test_time)\n",
        "    cfm = confusion_matrix(test_labels, test_pred)\n",
        "    print (cfm)"
      ]
    },
    {
      "cell_type": "code",
      "execution_count": 32,
      "id": "52ZUUQ7-y4tw",
      "metadata": {
        "colab": {
          "base_uri": "https://localhost:8080/"
        },
        "id": "52ZUUQ7-y4tw",
        "outputId": "85bbff74-c29a-4518-d320-e54025fd8874"
      },
      "outputs": [
        {
          "name": "stdout",
          "output_type": "stream",
          "text": [
            "MLP with one hidden layer on full training data\n",
            "Iteration 1, loss = 0.30553592\n",
            "Iteration 2, loss = 0.22167471\n",
            "Iteration 3, loss = 0.23627193\n",
            "Iteration 4, loss = 0.22569824\n",
            "Iteration 5, loss = 0.22035187\n",
            "Iteration 6, loss = 0.24412051\n",
            "Iteration 7, loss = 0.27025535\n",
            "Iteration 8, loss = 0.22221857\n",
            "Iteration 9, loss = 0.17465046\n",
            "Iteration 10, loss = 0.15080517\n",
            "Iteration 11, loss = 0.15665666\n",
            "Iteration 12, loss = 0.15921464\n",
            "Iteration 13, loss = 0.19102081\n",
            "Iteration 14, loss = 0.21841866\n",
            "Iteration 15, loss = 0.24435051\n",
            "Iteration 16, loss = 0.22630026\n",
            "Iteration 17, loss = 0.21444883\n",
            "Iteration 18, loss = 0.21882541\n",
            "Iteration 19, loss = 0.21312148\n",
            "Iteration 20, loss = 0.20285563\n",
            "Train time:  25.078760623931885\n"
          ]
        },
        {
          "name": "stderr",
          "output_type": "stream",
          "text": [
            "/usr/local/lib/python3.10/dist-packages/sklearn/neural_network/_multilayer_perceptron.py:686: ConvergenceWarning: Stochastic Optimizer: Maximum iterations (20) reached and the optimization hasn't converged yet.\n",
            "  warnings.warn(\n"
          ]
        },
        {
          "name": "stdout",
          "output_type": "stream",
          "text": [
            "Test Score 0.9611\n",
            "training score  0.9820333333333333\n",
            "test time 0.5000851154327393\n",
            "[[ 966    0    2    1    1    3    3    1    3    0]\n",
            " [   0 1117    5    0    8    2    0    2    1    0]\n",
            " [   4    0  998    6    2    1    6    8    7    0]\n",
            " [   0    0    7  972    0   19    0    5    4    3]\n",
            " [   4    0    9    2  938    0    4    5    4   16]\n",
            " [   2    2    2    7    1  860    3    3    6    6]\n",
            " [   7    5    4    1    6   10  922    0    3    0]\n",
            " [   1    3   15    5   14    0    0  974    1   15]\n",
            " [   1    2    6    9    7   29    3    9  906    2]\n",
            " [   4    2    0   13   17    2    1    9    3  958]]\n",
            "MLP with one hidden layer on full training data\n",
            "Iteration 1, loss = 0.52940580\n",
            "Iteration 2, loss = 0.25197918\n",
            "Iteration 3, loss = 0.18653593\n",
            "Iteration 4, loss = 0.14637298\n",
            "Iteration 5, loss = 0.11810865\n",
            "Iteration 6, loss = 0.10124688\n",
            "Iteration 7, loss = 0.08527019\n",
            "Iteration 8, loss = 0.07235402\n",
            "Iteration 9, loss = 0.06009725\n",
            "Iteration 10, loss = 0.05413540\n",
            "Iteration 11, loss = 0.04660867\n",
            "Iteration 12, loss = 0.04218342\n",
            "Iteration 13, loss = 0.03727251\n",
            "Iteration 14, loss = 0.03034149\n",
            "Iteration 15, loss = 0.02681483\n",
            "Iteration 16, loss = 0.02365439\n",
            "Iteration 17, loss = 0.02025256\n",
            "Iteration 18, loss = 0.01823139\n",
            "Iteration 19, loss = 0.01511150\n",
            "Iteration 20, loss = 0.01474395\n",
            "Train time:  8.656497955322266\n"
          ]
        },
        {
          "name": "stderr",
          "output_type": "stream",
          "text": [
            "/usr/local/lib/python3.10/dist-packages/sklearn/neural_network/_multilayer_perceptron.py:686: ConvergenceWarning: Stochastic Optimizer: Maximum iterations (20) reached and the optimization hasn't converged yet.\n",
            "  warnings.warn(\n"
          ]
        },
        {
          "name": "stdout",
          "output_type": "stream",
          "text": [
            "Test Score 0.95872\n",
            "training score  0.99865\n",
            "test time 0.7593691349029541\n",
            "[[4791    1   17   11    3   17   35    5   18   11]\n",
            " [   1 5520   17   20    3    2    5    9   14    5]\n",
            " [  28   18 4837   66   18    2   21   37   22   12]\n",
            " [   8   12   40 4868    1   42    2   24   48   20]\n",
            " [  10   10   13    4 4619    5   41   14   18  145]\n",
            " [  23   10   13  102   10 4252   45   20   39   24]\n",
            " [  16   12   14    2   24   25 4795    4   13    0]\n",
            " [  12   29   55   57   17    5    1 4959    8   57]\n",
            " [  23   34   31   77    9   55   27   11 4602   34]\n",
            " [  24   10    4   63   47   22    0   56   25 4693]]\n"
          ]
        }
      ],
      "source": [
        "print('MLP with one hidden layer on full training data')\n",
        "MLP_singlelayer(X_train, y_train, X_test, y_test, 50)\n",
        "print('MLP with one hidden layer on full training data')\n",
        "MLP_singlelayer(X_train1, y_train1, X_test1, y_test1, 50)"
      ]
    },
    {
      "cell_type": "code",
      "execution_count": 33,
      "id": "8aDWmf0vz9uv",
      "metadata": {
        "id": "8aDWmf0vz9uv"
      },
      "outputs": [],
      "source": [
        "# mlp = MLPClassifier(hidden_layer_sizes=(100, 100), max_iter=400, alpha=1e-4,\n",
        "\n",
        "\n",
        "def MLP_twolayer(train_features, train_labels, test_features, test_labels, hid_layer_size):\n",
        "\n",
        "    mlp = MLPClassifier(hidden_layer_sizes=(hid_layer_size,hid_layer_size), max_iter=20, alpha=1e-4,\n",
        "                    solver='sgd', verbose=10,\n",
        "                    learning_rate_init=.1)\n",
        "\n",
        "    start_time = time.time()\n",
        "    mlp.fit(train_features,train_labels)\n",
        "    train_time = time.time() - start_time\n",
        "\n",
        "    start_time = time.time()\n",
        "    #print(k)\n",
        "    print('training time ',train_time)\n",
        "    score_test = mlp.score(test_features,test_labels)\n",
        "    score_train = mlp.score(train_features,train_labels)\n",
        "    test_pred = mlp.predict(test_features)\n",
        "\n",
        "    test_time = time.time() - start_time\n",
        "\n",
        "    print('test score ',score_test)\n",
        "    print('training score ',score_train)\n",
        "\n",
        "    print('test time',test_time)\n",
        "    cfm = confusion_matrix(test_labels, test_pred)\n",
        "    print (cfm)"
      ]
    },
    {
      "cell_type": "code",
      "execution_count": 34,
      "id": "ja3WUhNe0Cmd",
      "metadata": {
        "colab": {
          "base_uri": "https://localhost:8080/"
        },
        "id": "ja3WUhNe0Cmd",
        "outputId": "317bd1a9-6570-4bd7-9c86-d487e25dc03d"
      },
      "outputs": [
        {
          "name": "stdout",
          "output_type": "stream",
          "text": [
            "MLP with two hidden layer on full training data\n",
            "Iteration 1, loss = 0.28973797\n",
            "Iteration 2, loss = 0.17041593\n",
            "Iteration 3, loss = 0.17260302\n",
            "Iteration 4, loss = 0.13740505\n",
            "Iteration 5, loss = 0.12465157\n",
            "Iteration 6, loss = 0.11393621\n",
            "Iteration 7, loss = 0.09133003\n",
            "Iteration 8, loss = 0.08382770\n",
            "Iteration 9, loss = 0.07679033\n",
            "Iteration 10, loss = 0.07083727\n",
            "Iteration 11, loss = 0.07265758\n",
            "Iteration 12, loss = 0.07694570\n",
            "Iteration 13, loss = 0.09744754\n",
            "Iteration 14, loss = 0.08510849\n",
            "Iteration 15, loss = 0.08681993\n",
            "Iteration 16, loss = 0.07734623\n",
            "Iteration 17, loss = 0.07140290\n",
            "Iteration 18, loss = 0.07368897\n",
            "Iteration 19, loss = 0.06420060\n",
            "Iteration 20, loss = 0.05504982\n",
            "training time  27.855942010879517\n"
          ]
        },
        {
          "name": "stderr",
          "output_type": "stream",
          "text": [
            "/usr/local/lib/python3.10/dist-packages/sklearn/neural_network/_multilayer_perceptron.py:686: ConvergenceWarning: Stochastic Optimizer: Maximum iterations (20) reached and the optimization hasn't converged yet.\n",
            "  warnings.warn(\n"
          ]
        },
        {
          "name": "stdout",
          "output_type": "stream",
          "text": [
            "test score  0.962\n",
            "training score  0.9844333333333334\n",
            "test time 0.5635740756988525\n",
            "[[ 963    0    2    5    0    1    6    1    2    0]\n",
            " [   0 1126    2    1    0    1    3    1    1    0]\n",
            " [   4    2  992   15    2    0    6    6    4    1]\n",
            " [   0    0    7  976    0   13    0    4    4    6]\n",
            " [   0    0    4    7  934    0    6    2    1   28]\n",
            " [   3    1    0   18    1  841   12    2    7    7]\n",
            " [   4    3    2    4    3    3  936    2    1    0]\n",
            " [   0    4   11    9    1    1    1  995    1    5]\n",
            " [   1    0    6   34    5    8    3    5  910    2]\n",
            " [   4    2    0   18    9    4    1   17    7  947]]\n",
            "MLP with tw0 hidden layer on full training data\n",
            "Iteration 1, loss = 0.55867242\n",
            "Iteration 2, loss = 0.19123152\n",
            "Iteration 3, loss = 0.13695456\n",
            "Iteration 4, loss = 0.10632690\n",
            "Iteration 5, loss = 0.08857691\n",
            "Iteration 6, loss = 0.07002306\n",
            "Iteration 7, loss = 0.05770997\n",
            "Iteration 8, loss = 0.04622428\n",
            "Iteration 9, loss = 0.03778265\n",
            "Iteration 10, loss = 0.03130629\n",
            "Iteration 11, loss = 0.03028085\n",
            "Iteration 12, loss = 0.02221359\n",
            "Iteration 13, loss = 0.01794078\n",
            "Iteration 14, loss = 0.01688992\n",
            "Iteration 15, loss = 0.01596160\n",
            "Iteration 16, loss = 0.01485542\n",
            "Iteration 17, loss = 0.01274805\n",
            "Iteration 18, loss = 0.00668220\n",
            "Iteration 19, loss = 0.00778941\n",
            "Iteration 20, loss = 0.00932114\n",
            "training time  11.17584776878357\n"
          ]
        },
        {
          "name": "stderr",
          "output_type": "stream",
          "text": [
            "/usr/local/lib/python3.10/dist-packages/sklearn/neural_network/_multilayer_perceptron.py:686: ConvergenceWarning: Stochastic Optimizer: Maximum iterations (20) reached and the optimization hasn't converged yet.\n",
            "  warnings.warn(\n"
          ]
        },
        {
          "name": "stdout",
          "output_type": "stream",
          "text": [
            "test score  0.95822\n",
            "training score  0.9975\n",
            "test time 0.8006103038787842\n",
            "[[4791    4   24   11   15   11   23    3   18    9]\n",
            " [   1 5518   28   11   11    1    5    7    9    5]\n",
            " [  27   16 4877   44   28    6   15   20   20    8]\n",
            " [  12    9   49 4858   10   40    3   11   39   34]\n",
            " [   7    8   13    4 4747    0   11    5    4   80]\n",
            " [  19   14   11  115   19 4188   54   13   57   48]\n",
            " [  23   10   20    7   67   20 4733    0   25    0]\n",
            " [  16   36   68   45   37    2    0 4898   11   87]\n",
            " [  22   46   30   86   31   35   18    5 4572   58]\n",
            " [  11    9    1   37  103   10    0   30   14 4729]]\n"
          ]
        }
      ],
      "source": [
        "print('MLP with two hidden layer on full training data')\n",
        "MLP_twolayer(X_train, y_train, X_test, y_test, 50)\n",
        "print('MLP with tw0 hidden layer on full training data')\n",
        "MLP_twolayer(X_train1, y_train1, X_test1, y_test1, 50)"
      ]
    },
    {
      "cell_type": "code",
      "execution_count": 41,
      "id": "Gnpzc5jSMayZ",
      "metadata": {
        "colab": {
          "base_uri": "https://localhost:8080/"
        },
        "id": "Gnpzc5jSMayZ",
        "outputId": "933c3f25-4ec5-4755-e260-14460b94aa0d"
      },
      "outputs": [
        {
          "name": "stdout",
          "output_type": "stream",
          "text": [
            "Training set score: 1.000000\n",
            "Test set score: 0.238900\n",
            "269.29035353660583\n",
            "1162.7739658355713\n"
          ]
        }
      ],
      "source": [
        "#SVM AND RBF\n",
        "\n",
        "# KNN Example KNN evelauation fucntion: Trains, Tests and prints results.\n",
        "#Use a similar function when you need to explore different hyperparameter settings\n",
        "\n",
        "# mlp = MLPClassifier(hidden_layer_sizes=(100, 100), max_iter=400, alpha=1e-4,\n",
        "#                     solver='sgd', verbose=10, tol=1e-4, random_state=1)\n",
        "clf = SVC(kernel = 'rbf', C = 1, gamma = 0.5)\n",
        "\n",
        "start_time = time.time()\n",
        "\n",
        "clf.fit(X_train1, y_train1)\n",
        "train_time = time.time() - start_time\n",
        "\n",
        "start_time = time.time()\n",
        "\n",
        "print(\"Training set score: %f\" % clf.score(X_train1, y_train1))\n",
        "print(\"Test set score: %f\" % clf.score(X_test1, y_test1))\n",
        "\n",
        "test_time = time.time() - start_time\n",
        "\n",
        "print(train_time)\n",
        "print(test_time)\n"
      ]
    },
    {
      "cell_type": "code",
      "execution_count": 15,
      "id": "187e0374",
      "metadata": {
        "id": "187e0374"
      },
      "outputs": [],
      "source": [
        "def SVM(train_features, train_labels, test_features, test_labels, type_):\n",
        "\n",
        "    if type_ == 'linear':\n",
        "        clf = SVC(kernel = 'linear', C = 1)\n",
        "    elif type_ == 'rbf':\n",
        "        clf = SVC(kernel = 'rbf', C = 1, gamma = 0.5)\n",
        "\n",
        "    start_time = time.time()\n",
        "    clf.fit(train_features,train_labels)\n",
        "    train_time = time.time() - start_time\n",
        "\n",
        "    start_time = time.time()\n",
        "    #print(k)\n",
        "    print(train_time)\n",
        "    score_test = clf.score(test_features,test_labels)\n",
        "    score_train = clf.score(train_features,train_labels)\n",
        "    test_pred = clf.predict(test_features)\n",
        "\n",
        "    test_time = time.time() - start_time\n",
        "\n",
        "    print(score_test)\n",
        "    print(score_train)\n",
        "\n",
        "    print(test_time)\n",
        "    cfm = confusion_matrix(test_labels, test_pred)\n",
        "    print (cfm)"
      ]
    },
    {
      "cell_type": "code",
      "execution_count": 16,
      "id": "aSbI7pZS1H8D",
      "metadata": {
        "colab": {
          "base_uri": "https://localhost:8080/"
        },
        "id": "aSbI7pZS1H8D",
        "outputId": "5d9539f2-7c91-4dd7-b83f-86e5bd256608"
      },
      "outputs": [
        {
          "name": "stdout",
          "output_type": "stream",
          "text": [
            "518.8517742156982\n",
            "0.9293\n",
            "0.9821\n",
            "514.6786148548126\n",
            "[[ 951    0    5    2    2    8    8    2    1    1]\n",
            " [   0 1119    6    2    0    1    2    1    4    0]\n",
            " [  10   13  956   11    7    4    5    6   18    2]\n",
            " [   7    1   15  941    0   16    1    6   19    4]\n",
            " [   3    2   18    1  929    0    3    5    4   17]\n",
            " [   7    6    7   41    6  789   12    2   19    3]\n",
            " [  12    3   13    1    8   17  902    0    2    0]\n",
            " [   2    8   23   13   10    1    0  945    5   21]\n",
            " [  12    6   11   28    8   24    9    6  858   12]\n",
            " [   6    7    6   10   36    4    1   23   13  903]]\n"
          ]
        }
      ],
      "source": [
        "SVM(X_train, y_train, X_test, y_test, 'linear')"
      ]
    },
    {
      "cell_type": "code",
      "execution_count": 19,
      "id": "CBJFO8T-5jXX",
      "metadata": {
        "colab": {
          "base_uri": "https://localhost:8080/"
        },
        "id": "CBJFO8T-5jXX",
        "outputId": "db2c2f0d-47d3-4640-a28b-f2ea68939cb3"
      },
      "outputs": [
        {
          "name": "stdout",
          "output_type": "stream",
          "text": [
            "518.858763217926\n",
            "0.2389\n",
            "1.0\n",
            "2297.3449470996857\n",
            "[[   1    0    0 4908    0    0    0    0    0    0]\n",
            " [   0 4324    0 1268    0    0    0    4    0    0]\n",
            " [   0    0    0 5061    0    0    0    0    0    0]\n",
            " [   0    0    0 5065    0    0    0    0    0    0]\n",
            " [   0    0    0 4877    2    0    0    0    0    0]\n",
            " [   0    0    0 4538    0    0    0    0    0    0]\n",
            " [   0    0    0 4888    0    0   17    0    0    0]\n",
            " [   0    0    0 2755    0    0    0 2445    0    0]\n",
            " [   0    0    0 4903    0    0    0    0    0    0]\n",
            " [   0    0    0 4836    0    0    0   17    0   91]]\n"
          ]
        }
      ],
      "source": [
        "SVM(X_train1, y_train1, X_test1, y_test1, 'rbf')"
      ]
    },
    {
      "cell_type": "markdown",
      "id": "b15f5ad4",
      "metadata": {
        "id": "b15f5ad4"
      },
      "source": [
        "<span style=\"color:cornflowerblue\"> You can visit this link for more information about PCA by sk.learn: https://scikit-learn.org/stable/modules/generated/sklearn.decomposition.PCA.html </a>"
      ]
    },
    {
      "cell_type": "code",
      "execution_count": null,
      "id": "71be7959",
      "metadata": {
        "id": "71be7959"
      },
      "outputs": [],
      "source": [
        "#PCA\n"
      ]
    },
    {
      "cell_type": "markdown",
      "id": "11fa0fb3",
      "metadata": {
        "id": "11fa0fb3"
      },
      "source": [
        "**Discussion**\n",
        "\n",
        "<span style=\"color:cornflowerblue\"> Discuss the performance and compare the test and training time of EVERY applied model. Modify the table below with your results. The first row is an example of how you should fill the table. Replace with you own result. Also, you can add new rows and columns as needed. </a>\n",
        "\n",
        "\n",
        "| Data| K | Training Time | Training Score | Test Time | Test Score |\n",
        "| --- | --- | --- | --- | --- | --- |\n",
        "| Full | 1 | 15.01 | ?? | 1033.4 | 96.91 |\n",
        "| Partly | - | - | - | - | - |\n",
        "| -  | - | - | - | - | - |\n",
        "| -  | - | - | - | - | - |\n",
        "| -  | - | - | - | - | - |\n",
        "| -  | - | - | - | - | - |\n",
        "\n",
        "\n"
      ]
    },
    {
      "cell_type": "markdown",
      "id": "42d6be6d",
      "metadata": {
        "id": "42d6be6d"
      },
      "source": [
        "### 3.2 Multi Layer Perceptron\n",
        "\n",
        "<span style=\"color:cornflowerblue\">  Define a function for conducting training and testing similar to the example provided for the K-NN classifier.  </a>\n",
        "\n",
        "<span style=\"color:cornflowerblue\"> You can visit this link for more information about MLP by sk.learn: https://scikit-learn.org/stable/modules/generated/sklearn.neural_network.MLPClassifier.html </a>"
      ]
    },
    {
      "cell_type": "code",
      "execution_count": null,
      "id": "cc841f71",
      "metadata": {
        "id": "cc841f71"
      },
      "outputs": [],
      "source": [
        "#MLP model\n"
      ]
    },
    {
      "cell_type": "markdown",
      "id": "15dc8a93",
      "metadata": {
        "id": "15dc8a93"
      },
      "source": [
        "**Discussion**\n",
        "\n",
        "<span style=\"color:cornflowerblue\"> Create a table of your results and discuss as for KNN.   </a>\n",
        "\n"
      ]
    },
    {
      "cell_type": "markdown",
      "id": "a3333f07",
      "metadata": {
        "id": "a3333f07"
      },
      "source": [
        "### 3.3 Support Vector Classifier\n",
        "\n",
        "<span style=\"color:cornflowerblue\"> Define a function for conducting training and testing similar to the example provided for the K-NN classifier.  </a>\n",
        "\n",
        "\n",
        "<span style=\"color:cornflowerblue\"> You can visit this link for more information about SVC by sk.learn:\n",
        "\n",
        "https://scikit-learn.org/stable/modules/generated/sklearn.svm.SVC.html </span>"
      ]
    },
    {
      "cell_type": "code",
      "execution_count": null,
      "id": "f06f316e",
      "metadata": {
        "id": "f06f316e"
      },
      "outputs": [],
      "source": [
        "#SVC model"
      ]
    },
    {
      "cell_type": "markdown",
      "id": "9999bced",
      "metadata": {
        "id": "9999bced"
      },
      "source": [
        "**Discussion**\n",
        "\n",
        "<span style=\"color:cornflowerblue\"> Create a table of your results and discuss as for KNN.   </span>\n",
        "\n"
      ]
    },
    {
      "cell_type": "markdown",
      "id": "824b84bd-d14c-4d38-ad4c-287a6bae33bb",
      "metadata": {
        "id": "824b84bd-d14c-4d38-ad4c-287a6bae33bb"
      },
      "source": [
        "### 3.4 Summary\n",
        "\n",
        "<span style=\"color:cornflowerblue\"> Create a table with the main results from the different models you have explored. Discuss/compare the relative performance of the different models.   </span>"
      ]
    },
    {
      "cell_type": "code",
      "execution_count": null,
      "id": "19ab1a6f-9949-4b1a-b527-a28e8b785087",
      "metadata": {
        "id": "19ab1a6f-9949-4b1a-b527-a28e8b785087"
      },
      "outputs": [],
      "source": []
    }
  ],
  "metadata": {
    "accelerator": "GPU",
    "colab": {
      "gpuType": "T4",
      "provenance": []
    },
    "kernelspec": {
      "display_name": "Python 3",
      "name": "python3"
    },
    "language_info": {
      "codemirror_mode": {
        "name": "ipython",
        "version": 3
      },
      "file_extension": ".py",
      "mimetype": "text/x-python",
      "name": "python",
      "nbconvert_exporter": "python",
      "pygments_lexer": "ipython3",
      "version": "3.7.9"
    }
  },
  "nbformat": 4,
  "nbformat_minor": 5
}
